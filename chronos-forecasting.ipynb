{
 "cells": [
  {
   "cell_type": "code",
   "execution_count": 1,
   "id": "4d28bde5-0879-4a18-be01-11744e349b7d",
   "metadata": {},
   "outputs": [],
   "source": [
    "#! pip install -r ./requirements.txt"
   ]
  },
  {
   "cell_type": "code",
   "execution_count": 2,
   "id": "197bf764-fe12-4688-8b37-eadeac85ec84",
   "metadata": {},
   "outputs": [],
   "source": [
    "# If it's not already installed ...\n",
    "# !pip install git+https://github.com/amazon-science/chronos-forecasting.git"
   ]
  },
  {
   "cell_type": "code",
   "execution_count": 3,
   "id": "a9373f70-7be5-4439-8d25-839cb492d3d1",
   "metadata": {},
   "outputs": [],
   "source": [
    "import numpy as np\n",
    "import pandas as pd\n",
    "import torch\n",
    "from chronos import ChronosPipeline\n",
    "import warnings\n",
    "\n",
    "warnings.filterwarnings('ignore')"
   ]
  },
  {
   "cell_type": "code",
   "execution_count": 4,
   "id": "246dd7e8-084e-4950-98c9-bdb94187f21c",
   "metadata": {},
   "outputs": [],
   "source": [
    "pipeline = ChronosPipeline.from_pretrained(\"amazon/chronos-t5-tiny\", device_map=\"mps\")"
   ]
  },
  {
   "cell_type": "code",
   "execution_count": 5,
   "id": "dfbe357b-b116-4b92-a84f-e1b5fa633af1",
   "metadata": {},
   "outputs": [],
   "source": [
    "df = pd.read_parquet(\"./sales.parquet\")"
   ]
  },
  {
   "cell_type": "code",
   "execution_count": 6,
   "id": "9fbe8dcc-90bf-4eb6-b74f-fc9c00b3922f",
   "metadata": {},
   "outputs": [],
   "source": [
    "history = df.groupby(\"store\").head(-12)\n",
    "future = df.groupby(\"store\").tail(12)"
   ]
  },
  {
   "cell_type": "code",
   "execution_count": 7,
   "id": "1c5cd6e6-72eb-44a6-8b01-10076d3ccfb9",
   "metadata": {},
   "outputs": [],
   "source": [
    "# context must be either a 1D tensor, a list of 1D tensors,\n",
    "# or a left-padded 2D tensor with batch as the first dimension\n",
    "context = [torch.tensor(i) for i in history.groupby('store')['sales'].apply(list)]\n",
    "prediction_length = 12\n",
    "forecast = pipeline.predict(context, prediction_length)  # shape [num_series, num_samples, prediction_length]"
   ]
  },
  {
   "cell_type": "code",
   "execution_count": 8,
   "id": "1b0dd115-d164-48e0-858a-b33f8436bead",
   "metadata": {},
   "outputs": [],
   "source": [
    "low = []\n",
    "median = []\n",
    "high = []\n",
    "for i, store in enumerate(forecast):\n",
    "    p10, p50, p90 = np.quantile(forecast[i].numpy(), [0.1, 0.5, 0.9], axis=0)\n",
    "    low.extend(p10)\n",
    "    median.extend(p50)\n",
    "    high.extend(p90)\n",
    "\n",
    "future[\"low\"] = low\n",
    "future[\"median\"] = median\n",
    "future[\"high\"] = high"
   ]
  },
  {
   "cell_type": "code",
   "execution_count": 9,
   "id": "3a9c8cea-eba2-4f9b-82b8-d89b55238ef4",
   "metadata": {},
   "outputs": [
    {
     "data": {
      "text/html": [
       "<div>\n",
       "<style scoped>\n",
       "    .dataframe tbody tr th:only-of-type {\n",
       "        vertical-align: middle;\n",
       "    }\n",
       "\n",
       "    .dataframe tbody tr th {\n",
       "        vertical-align: top;\n",
       "    }\n",
       "\n",
       "    .dataframe thead th {\n",
       "        text-align: right;\n",
       "    }\n",
       "</style>\n",
       "<table border=\"1\" class=\"dataframe\">\n",
       "  <thead>\n",
       "    <tr style=\"text-align: right;\">\n",
       "      <th></th>\n",
       "      <th>store</th>\n",
       "      <th>week</th>\n",
       "      <th>sales</th>\n",
       "      <th>low</th>\n",
       "      <th>median</th>\n",
       "      <th>high</th>\n",
       "    </tr>\n",
       "  </thead>\n",
       "  <tbody>\n",
       "    <tr>\n",
       "      <th>131</th>\n",
       "      <td>1</td>\n",
       "      <td>2012-08-10</td>\n",
       "      <td>1592409.97</td>\n",
       "      <td>1.513289e+06</td>\n",
       "      <td>1.613644e+06</td>\n",
       "      <td>1.690049e+06</td>\n",
       "    </tr>\n",
       "    <tr>\n",
       "      <th>132</th>\n",
       "      <td>1</td>\n",
       "      <td>2012-08-17</td>\n",
       "      <td>1597868.05</td>\n",
       "      <td>1.481359e+06</td>\n",
       "      <td>1.539519e+06</td>\n",
       "      <td>1.597678e+06</td>\n",
       "    </tr>\n",
       "    <tr>\n",
       "      <th>133</th>\n",
       "      <td>1</td>\n",
       "      <td>2012-08-24</td>\n",
       "      <td>1494122.38</td>\n",
       "      <td>1.391269e+06</td>\n",
       "      <td>1.482499e+06</td>\n",
       "      <td>1.550923e+06</td>\n",
       "    </tr>\n",
       "    <tr>\n",
       "      <th>134</th>\n",
       "      <td>1</td>\n",
       "      <td>2012-08-31</td>\n",
       "      <td>1582083.40</td>\n",
       "      <td>1.446006e+06</td>\n",
       "      <td>1.550923e+06</td>\n",
       "      <td>1.653557e+06</td>\n",
       "    </tr>\n",
       "    <tr>\n",
       "      <th>135</th>\n",
       "      <td>1</td>\n",
       "      <td>2012-09-07</td>\n",
       "      <td>1661767.33</td>\n",
       "      <td>1.482499e+06</td>\n",
       "      <td>1.568028e+06</td>\n",
       "      <td>1.690049e+06</td>\n",
       "    </tr>\n",
       "    <tr>\n",
       "      <th>...</th>\n",
       "      <td>...</td>\n",
       "      <td>...</td>\n",
       "      <td>...</td>\n",
       "      <td>...</td>\n",
       "      <td>...</td>\n",
       "      <td>...</td>\n",
       "    </tr>\n",
       "    <tr>\n",
       "      <th>6430</th>\n",
       "      <td>45</td>\n",
       "      <td>2012-09-28</td>\n",
       "      <td>713173.95</td>\n",
       "      <td>7.186146e+05</td>\n",
       "      <td>7.684940e+05</td>\n",
       "      <td>8.137338e+05</td>\n",
       "    </tr>\n",
       "    <tr>\n",
       "      <th>6431</th>\n",
       "      <td>45</td>\n",
       "      <td>2012-10-05</td>\n",
       "      <td>733455.07</td>\n",
       "      <td>7.116544e+05</td>\n",
       "      <td>7.887940e+05</td>\n",
       "      <td>8.317140e+05</td>\n",
       "    </tr>\n",
       "    <tr>\n",
       "      <th>6432</th>\n",
       "      <td>45</td>\n",
       "      <td>2012-10-12</td>\n",
       "      <td>734464.36</td>\n",
       "      <td>7.133943e+05</td>\n",
       "      <td>7.742940e+05</td>\n",
       "      <td>8.705733e+05</td>\n",
       "    </tr>\n",
       "    <tr>\n",
       "      <th>6433</th>\n",
       "      <td>45</td>\n",
       "      <td>2012-10-19</td>\n",
       "      <td>718125.53</td>\n",
       "      <td>7.348541e+05</td>\n",
       "      <td>7.858942e+05</td>\n",
       "      <td>8.943531e+05</td>\n",
       "    </tr>\n",
       "    <tr>\n",
       "      <th>6434</th>\n",
       "      <td>45</td>\n",
       "      <td>2012-10-26</td>\n",
       "      <td>760281.43</td>\n",
       "      <td>7.406544e+05</td>\n",
       "      <td>8.148940e+05</td>\n",
       "      <td>8.978331e+05</td>\n",
       "    </tr>\n",
       "  </tbody>\n",
       "</table>\n",
       "<p>540 rows × 6 columns</p>\n",
       "</div>"
      ],
      "text/plain": [
       "      store       week       sales           low        median          high\n",
       "131       1 2012-08-10  1592409.97  1.513289e+06  1.613644e+06  1.690049e+06\n",
       "132       1 2012-08-17  1597868.05  1.481359e+06  1.539519e+06  1.597678e+06\n",
       "133       1 2012-08-24  1494122.38  1.391269e+06  1.482499e+06  1.550923e+06\n",
       "134       1 2012-08-31  1582083.40  1.446006e+06  1.550923e+06  1.653557e+06\n",
       "135       1 2012-09-07  1661767.33  1.482499e+06  1.568028e+06  1.690049e+06\n",
       "...     ...        ...         ...           ...           ...           ...\n",
       "6430     45 2012-09-28   713173.95  7.186146e+05  7.684940e+05  8.137338e+05\n",
       "6431     45 2012-10-05   733455.07  7.116544e+05  7.887940e+05  8.317140e+05\n",
       "6432     45 2012-10-12   734464.36  7.133943e+05  7.742940e+05  8.705733e+05\n",
       "6433     45 2012-10-19   718125.53  7.348541e+05  7.858942e+05  8.943531e+05\n",
       "6434     45 2012-10-26   760281.43  7.406544e+05  8.148940e+05  8.978331e+05\n",
       "\n",
       "[540 rows x 6 columns]"
      ]
     },
     "execution_count": 9,
     "metadata": {},
     "output_type": "execute_result"
    }
   ],
   "source": [
    "future"
   ]
  }
 ],
 "metadata": {
  "kernelspec": {
   "display_name": "Python 3 (ipykernel)",
   "language": "python",
   "name": "python3"
  },
  "language_info": {
   "codemirror_mode": {
    "name": "ipython",
    "version": 3
   },
   "file_extension": ".py",
   "mimetype": "text/x-python",
   "name": "python",
   "nbconvert_exporter": "python",
   "pygments_lexer": "ipython3",
   "version": "3.11.8"
  }
 },
 "nbformat": 4,
 "nbformat_minor": 5
}
